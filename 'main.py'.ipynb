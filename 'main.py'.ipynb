{
 "cells": [
  {
   "cell_type": "code",
   "execution_count": 2,
   "metadata": {},
   "outputs": [],
   "source": [
    "import os\n",
    "import csv"
   ]
  },
  {
   "cell_type": "code",
   "execution_count": 4,
   "metadata": {
    "scrolled": false
   },
   "outputs": [
    {
     "ename": "ValueError",
     "evalue": "invalid literal for int() with base 10: ''",
     "output_type": "error",
     "traceback": [
      "\u001b[0;31m---------------------------------------------------------------------------\u001b[0m",
      "\u001b[0;31mValueError\u001b[0m                                Traceback (most recent call last)",
      "\u001b[0;32m<ipython-input-4-6e5b9d3890ec>\u001b[0m in \u001b[0;36m<module>\u001b[0;34m\u001b[0m\n\u001b[1;32m     19\u001b[0m     \u001b[0;32mfor\u001b[0m \u001b[0mi\u001b[0m\u001b[0;34m,\u001b[0m\u001b[0mfields\u001b[0m \u001b[0;32min\u001b[0m \u001b[0menumerate\u001b[0m\u001b[0;34m(\u001b[0m\u001b[0mfile_iterator\u001b[0m\u001b[0;34m)\u001b[0m\u001b[0;34m:\u001b[0m\u001b[0;34m\u001b[0m\u001b[0;34m\u001b[0m\u001b[0m\n\u001b[1;32m     20\u001b[0m         \u001b[0;32mif\u001b[0m \u001b[0mi\u001b[0m\u001b[0;34m!=\u001b[0m\u001b[0;36m0\u001b[0m\u001b[0;34m:\u001b[0m\u001b[0;34m\u001b[0m\u001b[0;34m\u001b[0m\u001b[0m\n\u001b[0;32m---> 21\u001b[0;31m             \u001b[0mdelta\u001b[0m \u001b[0;34m=\u001b[0m \u001b[0mint\u001b[0m\u001b[0;34m(\u001b[0m\u001b[0mfields\u001b[0m\u001b[0;34m[\u001b[0m\u001b[0;36m1\u001b[0m\u001b[0;34m]\u001b[0m\u001b[0;34m)\u001b[0m \u001b[0;34m-\u001b[0m \u001b[0mprev\u001b[0m\u001b[0;34m\u001b[0m\u001b[0;34m\u001b[0m\u001b[0m\n\u001b[0m\u001b[1;32m     22\u001b[0m             \u001b[0;32mif\u001b[0m \u001b[0mdelta\u001b[0m \u001b[0;34m>\u001b[0m \u001b[0mgreatestPct\u001b[0m\u001b[0;34m:\u001b[0m\u001b[0;34m\u001b[0m\u001b[0;34m\u001b[0m\u001b[0m\n\u001b[1;32m     23\u001b[0m                 \u001b[0mgreatestPct\u001b[0m \u001b[0;34m=\u001b[0m \u001b[0mdelta\u001b[0m\u001b[0;34m\u001b[0m\u001b[0;34m\u001b[0m\u001b[0m\n",
      "\u001b[0;31mValueError\u001b[0m: invalid literal for int() with base 10: ''"
     ]
    }
   ],
   "source": [
    "data = [] \n",
    "\n",
    "diff = []\n",
    "greatestPct = 0\n",
    "greatestmonth = \"\"\n",
    "leastmonth = \"\"\n",
    "leastPct = 99999999999999999999\n",
    "\n",
    "\n",
    "csv_file = os.path.join(\"Resources\", \"budget_data.csv\")\n",
    "\n",
    "with open(csv_file, 'r') as file_handler:\n",
    "    file_iterator = csv.reader(file_handler)\n",
    "    \n",
    "    next(file_iterator) \n",
    "    \n",
    "#     loop through everything except headers\n",
    "\n",
    "    for i,fields in enumerate(file_iterator):\n",
    "        if i!=0:\n",
    "            delta = int(fields[1]) - prev\n",
    "            if delta > greatestPct:\n",
    "                greatestPct = delta \n",
    "                greatestmonth = fields[0]\n",
    "            \n",
    "            if delta < leastPct:\n",
    "                \n",
    "                leastPct = delta \n",
    "                leastmonth = fields[0]\n",
    "            \n",
    "            \n",
    "            diff.append(delta)\n",
    "        prev = int(fields[1])\n",
    "\n",
    "    diffMean = sum(diff)/len(diff)\n",
    "\n",
    "print(diffMean) \n",
    "print(greatestmonth,greatestPct)\n",
    "print(leastmonth, leastPct)\n",
    "file_handler.close()\n",
    "\n",
    "\n"
   ]
  },
  {
   "cell_type": "code",
   "execution_count": 7,
   "metadata": {},
   "outputs": [
    {
     "ename": "SyntaxError",
     "evalue": "f-string: empty expression not allowed (<ipython-input-7-8b87855643e9>, line 9)",
     "output_type": "error",
     "traceback": [
      "\u001b[0;36m  File \u001b[0;32m\"<ipython-input-7-8b87855643e9>\"\u001b[0;36m, line \u001b[0;32m9\u001b[0m\n\u001b[0;31m    \"\"\"\u001b[0m\n\u001b[0m      ^\u001b[0m\n\u001b[0;31mSyntaxError\u001b[0m\u001b[0;31m:\u001b[0m f-string: empty expression not allowed\n"
     ]
    }
   ],
   "source": [
    "hw = f\"\"\"\n",
    "  Financial Analysis\n",
    "  ----------------------------\n",
    "  #Total Months: {}\n",
    "  #Total: {}\n",
    "  Average  Change: ${diffMean:.2f}\n",
    "  Greatest Increase in Profits: {greatestmonth}, (${greatestPct:,})\n",
    "  Greatest Decrease in Profits: {leastmonth}, (${leastPct:,})\n",
    " \"\"\"\n",
    "print(hw)\n"
   ]
  },
  {
   "cell_type": "code",
   "execution_count": 6,
   "metadata": {},
   "outputs": [
    {
     "name": "stdout",
     "output_type": "stream",
     "text": [
      "<_io.TextIOWrapper name='New_PyBank' mode='w' encoding='UTF-8'>\n"
     ]
    }
   ],
   "source": [
    "#Export results to text file, pt two\n",
    "with open('New_PyBank', 'w') as new_file:\n",
    "    csv_writier = csv.writer(new_file)\n",
    "    \n",
    "       \n",
    "    # Initialize csv.writer\n",
    "    csvwriter = csv.writer(new_file, delimiter=',')\n",
    "\n",
    "    # Write the first row (column headers)\n",
    "    csvwriter.writerow(['Total Months: 86'])\n",
    "    csvwriter.writerow(['Total: $38382578'])\n",
    "    csvwriter.writerow(['Average  Change: $-2315.12'])\n",
    "    csvwriter.writerow(['Greatest Increase in Profits: Feb-2012, ($1,926,159)'])       \n",
    "    csvwriter.writerow(['Greatest Decrease in Profits: Sep-2013, ($-2,196,167)'])  \n",
    "    \n",
    "  \n",
    " \n",
    "print(new_file)"
   ]
  },
  {
   "cell_type": "code",
   "execution_count": null,
   "metadata": {},
   "outputs": [],
   "source": []
  }
 ],
 "metadata": {
  "kernelspec": {
   "display_name": "Python 3",
   "language": "python",
   "name": "python3"
  },
  "language_info": {
   "codemirror_mode": {
    "name": "ipython",
    "version": 3
   },
   "file_extension": ".py",
   "mimetype": "text/x-python",
   "name": "python",
   "nbconvert_exporter": "python",
   "pygments_lexer": "ipython3",
   "version": "3.7.4"
  }
 },
 "nbformat": 4,
 "nbformat_minor": 2
}
