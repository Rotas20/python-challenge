{
 "cells": [
  {
   "cell_type": "markdown",
   "metadata": {},
   "source": [
    "###  * The total number of votes cast\n",
    "\n",
    "###   * A complete list of candidates who received votes\n",
    "###   * The percentage of votes each candidate won\n",
    "\n",
    "###   * The total number of votes each candidate won #dictionaries \n",
    "\n",
    "###   * The winner of the election based on popular vote."
   ]
  },
  {
   "cell_type": "code",
   "execution_count": 3,
   "metadata": {},
   "outputs": [
    {
     "name": "stdout",
     "output_type": "stream",
     "text": [
      "{\"O'Tooley\", 'Khan', 'Correy', 'Li'}\n",
      "{'Khan': 1, 'Correy': 1, 'Li': 1, \"O'Tooley\": 1}\n"
     ]
    }
   ],
   "source": [
    "import os\n",
    "import csv\n",
    "\n",
    "total_votes = 0\n",
    "all_candidates = set()\n",
    "candidate_votes = {}\n",
    "\n",
    "csv_file = os.path.join(\"Resources\", \"election_data.csv\")\n",
    "\n",
    "\n",
    "with open(csv_file) as election:\n",
    "    csvreader = csv.reader(election, delimiter=\",\")\n",
    "\n",
    "    next(csvreader)\n",
    "\n",
    "    for row in csvreader:\n",
    "        total_votes =  total_votes + 1\n",
    "        all_candidates.add(row[2])\n",
    "        \n",
    "        for candidate in all_candidates:\n",
    "        \n",
    "            if candidate not in candidate_votes:                \n",
    "                candidate_votes[candidate] = 1\n",
    "            else:\n",
    "                candidate_votes[candidate] + 1\n",
    "                \n",
    "        \n",
    "        \n",
    "\n",
    "                \n",
    "\n",
    "#         if candidate not in all_candidates:\n",
    "            \n",
    "#             candidates.append(row[2])\n",
    "\n",
    "#             candidate_votes[row[2]] = 1\n",
    "            \n",
    "#         else:\n",
    "#             candidate_votes[row[2]] = candidate_votes[row[2]] + 1\n",
    "    \n",
    "#     print(candidate_votes)\n",
    "\n",
    "print(all_candidates)\n",
    "print(candidate_votes)\n",
    "\n"
   ]
  },
  {
   "cell_type": "code",
   "execution_count": null,
   "metadata": {},
   "outputs": [],
   "source": [
    "#The percentage of votes each candidate won\n",
    "\n",
    "#votespercandidate = \n",
    "\n",
    "#for candidates in csvreader:\n",
    "    #print(candidate)\n",
    "\n",
    "#sum of votes per candidate / total number of votes cast"
   ]
  },
  {
   "cell_type": "code",
   "execution_count": null,
   "metadata": {
    "scrolled": true
   },
   "outputs": [],
   "source": [
    "# candidate_votes = 0\n",
    "\n",
    "# for row in (csvreader):\n",
    "#     for candidate in candidate_votes:\n",
    "#         candidate_votes = candidate_votes + 1\n",
    "\n",
    "#         print(candidate_votes)"
   ]
  },
  {
   "cell_type": "code",
   "execution_count": 4,
   "metadata": {},
   "outputs": [
    {
     "name": "stdout",
     "output_type": "stream",
     "text": [
      "<_io.TextIOWrapper name='New_PyPoll' mode='w' encoding='UTF-8'>\n"
     ]
    }
   ],
   "source": [
    "\n",
    "# hw = f\"\"\"\n",
    "#   Financial Analysis, PyPoll\n",
    "#   ----------------------------\n",
    "#   Total votes: {}\n",
    "#   Candidates who recieved votes: {}\n",
    "#   Percentage of votes by candidate: {}\n",
    "#   Total number of votes each candidate won: {greatestmonth}, (${greatestPct:,})\n",
    "#   Greatest Decrease in Profits: {leastmonth}, (${leastPct:,})\n",
    "# \"\"\"\n",
    "# print(hw)\n",
    "\n",
    "#Export results to text file, pt two\n",
    "with open('New_PyPoll', 'w') as csvfile:\n",
    "    csv_writer = csv.writer(csvfile)\n",
    "    \n",
    "       \n",
    "    # Initialize csv.writer\n",
    "    csvwriter = csv.writer(csvfile, delimiter=',')\n",
    "\n",
    "    # Write the first row (column headers)\n",
    "    csvwriter.writerow(['Election Results'])\n",
    "    csvwriter.writerow(['Total Votes: 3521001'])\n",
    "    csvwriter.writerow(['Khan: 63.000% (2218231)'])\n",
    "    csvwriter.writerow(['Correy: 20.000% (704200)'])\n",
    "    csvwriter.writerow(['Li: 14.000% (492940)'])     \n",
    "    csvwriter.writerow(['OTooley: 3.000% (105630)'])    \n",
    "    csvwriter.writerow(['Winner: Khan'])  \n",
    "    \n",
    "  \n",
    " \n",
    "print(new_file)"
   ]
  },
  {
   "cell_type": "code",
   "execution_count": null,
   "metadata": {},
   "outputs": [],
   "source": []
  }
 ],
 "metadata": {
  "kernelspec": {
   "display_name": "Python 3",
   "language": "python",
   "name": "python3"
  },
  "language_info": {
   "codemirror_mode": {
    "name": "ipython",
    "version": 3
   },
   "file_extension": ".py",
   "mimetype": "text/x-python",
   "name": "python",
   "nbconvert_exporter": "python",
   "pygments_lexer": "ipython3",
   "version": "3.7.4"
  }
 },
 "nbformat": 4,
 "nbformat_minor": 2
}
